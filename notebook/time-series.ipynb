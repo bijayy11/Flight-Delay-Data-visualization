{
 "cells": [
  {
   "cell_type": "code",
   "execution_count": 1,
   "metadata": {},
   "outputs": [],
   "source": [
    "import streamlit as st\n",
    "import pandas as pd\n",
    "import plotly.express as px\n",
    "import plotly.graph_objects as go\n",
    "import os"
   ]
  },
  {
   "cell_type": "code",
   "execution_count": 2,
   "metadata": {},
   "outputs": [],
   "source": [
    "def load_data(directory_path):\n",
    "    \"\"\"\n",
    "    Loads flight delay data from multiple CSV files in a directory.\n",
    "    :param directory_path: Path to the directory containing CSV files.\n",
    "    :return: DataFrame.\n",
    "    \"\"\"\n",
    "    files = [file for file in os.listdir(directory_path) if file.endswith('.csv')]\n",
    "    data_frames = []\n",
    "    \n",
    "    for file in files:\n",
    "        year = file.split('.')[0]\n",
    "        df = pd.read_csv(os.path.join(directory_path, file)).sample(frac=0.1, random_state=42)\n",
    "        df['Year'] = int(year)  # Add year column from filename\n",
    "        data_frames.append(df)\n",
    "    \n",
    "    # Combine all dataframes into one\n",
    "    return pd.concat(data_frames, ignore_index=True)"
   ]
  },
  {
   "cell_type": "code",
   "execution_count": null,
   "metadata": {},
   "outputs": [],
   "source": []
  }
 ],
 "metadata": {
  "kernelspec": {
   "display_name": "venv",
   "language": "python",
   "name": "python3"
  },
  "language_info": {
   "codemirror_mode": {
    "name": "ipython",
    "version": 3
   },
   "file_extension": ".py",
   "mimetype": "text/x-python",
   "name": "python",
   "nbconvert_exporter": "python",
   "pygments_lexer": "ipython3",
   "version": "3.13.0"
  }
 },
 "nbformat": 4,
 "nbformat_minor": 2
}
